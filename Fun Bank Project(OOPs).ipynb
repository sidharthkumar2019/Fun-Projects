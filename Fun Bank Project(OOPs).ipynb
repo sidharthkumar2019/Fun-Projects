{
 "cells": [
  {
   "cell_type": "code",
   "execution_count": 1,
   "metadata": {},
   "outputs": [],
   "source": [
    "# Fun project \n",
    "class MyExc(Exception):\n",
    "    def __init__(self,arg):\n",
    "        self.msg = arg\n",
    "\n",
    "class Bank:\n",
    "    def __init__(self,bn):\n",
    "        self.bank_name = bn\n",
    "        \n",
    "class Employee(Bank):\n",
    "    pass\n",
    "        \n",
    "class Customer(Bank):\n",
    "    def __init__(self,n,pas,b,bn):\n",
    "        Bank.__init__(self,bn)\n",
    "        self.customer_name = n\n",
    "        self.__account_balance = b\n",
    "        self.__password = pas\n",
    "        \n",
    "    def print_balance(self):\n",
    "        check = input('Please enter your password: ')\n",
    "        if check == self.__password:\n",
    "            print('Your current balance is INR',self.__account_balance)\n",
    "        else:\n",
    "            print('wrong password')\n",
    "    \n",
    "    def deposite(self,x = 0):\n",
    "        check = input('Please enter your password: ')\n",
    "        if check == self.__password:\n",
    "            try:\n",
    "                if x < 0:\n",
    "                    raise MyExc('Enter a positive value')\n",
    "                self.__account_balance += x\n",
    "            except TypeError:\n",
    "                print('Enter a positive integer')\n",
    "            except MyExc as me:\n",
    "                print(me.msg)\n",
    "            else:\n",
    "                print('Deposited INR',x,'in your account :-)')\n",
    "                print('current balance: INR',self.__account_balance)\n",
    "            \n",
    "        else:\n",
    "            print('wrong password')\n",
    "        \n",
    "    def withdraw(self,x = 0):\n",
    "        check = input('Please enter your password: ')\n",
    "        if check == self.__password:\n",
    "            try:\n",
    "                if x < 0:\n",
    "                    raise MyExc('Enter a positive value')\n",
    "                if x > self.__account_balance:\n",
    "                    raise MyExc('Insufficient funds')\n",
    "                self.__account_balance -= x\n",
    "            except TypeError:\n",
    "                print('Enter a positive integer')\n",
    "            except MyExc as me:\n",
    "                print(me.msg)\n",
    "            else:\n",
    "                print('Withdrew INR',x,'from your account ;-)')\n",
    "                print('current balance: INR',self.__account_balance)\n",
    "            \n",
    "        else:\n",
    "            print('wrong password')\n",
    "        \n",
    "    def change_password(self):\n",
    "        # verify old password first\n",
    "        pass\n"
   ]
  },
  {
   "cell_type": "code",
   "execution_count": 2,
   "metadata": {},
   "outputs": [
    {
     "name": "stdout",
     "output_type": "stream",
     "text": [
      "HDFC Sidharth\n",
      "Please enter your password: za$$k&T\n",
      "Your current balance is INR 100\n",
      "Please enter your password: za$$k&T\n",
      "Deposited INR 1000 in your account :-)\n",
      "current balance: INR 1100\n",
      "Please enter your password: za$$k&T\n",
      "Withdrew INR 600 from your account ;-)\n",
      "current balance: INR 500\n",
      "Please enter your password: za$$k&T\n",
      "Your current balance is INR 500\n"
     ]
    }
   ],
   "source": [
    "a = Customer('Sidharth','za$$k&T',100,'HDFC')\n",
    "print(a.bank_name,a.customer_name)\n",
    "a.print_balance()\n",
    "a.deposite(1000)\n",
    "a.withdraw(600)\n",
    "a.print_balance()"
   ]
  },
  {
   "cell_type": "code",
   "execution_count": null,
   "metadata": {},
   "outputs": [],
   "source": []
  }
 ],
 "metadata": {
  "kernelspec": {
   "display_name": "Python 3",
   "language": "python",
   "name": "python3"
  },
  "language_info": {
   "codemirror_mode": {
    "name": "ipython",
    "version": 3
   },
   "file_extension": ".py",
   "mimetype": "text/x-python",
   "name": "python",
   "nbconvert_exporter": "python",
   "pygments_lexer": "ipython3",
   "version": "3.7.3"
  }
 },
 "nbformat": 4,
 "nbformat_minor": 2
}
